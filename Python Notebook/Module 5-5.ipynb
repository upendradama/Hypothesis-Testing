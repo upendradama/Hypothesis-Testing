{
 "cells": [
  {
   "cell_type": "code",
   "execution_count": 15,
   "metadata": {},
   "outputs": [
    {
     "data": {
      "text/html": [
       "<div>\n",
       "<style scoped>\n",
       "    .dataframe tbody tr th:only-of-type {\n",
       "        vertical-align: middle;\n",
       "    }\n",
       "\n",
       "    .dataframe tbody tr th {\n",
       "        vertical-align: top;\n",
       "    }\n",
       "\n",
       "    .dataframe thead th {\n",
       "        text-align: right;\n",
       "    }\n",
       "</style>\n",
       "<table border=\"1\" class=\"dataframe\">\n",
       "  <thead>\n",
       "    <tr style=\"text-align: right;\">\n",
       "      <th></th>\n",
       "      <th>Weekdays</th>\n",
       "      <th>Weekend</th>\n",
       "    </tr>\n",
       "  </thead>\n",
       "  <tbody>\n",
       "    <tr>\n",
       "      <td>0</td>\n",
       "      <td>Male</td>\n",
       "      <td>Female</td>\n",
       "    </tr>\n",
       "    <tr>\n",
       "      <td>1</td>\n",
       "      <td>Female</td>\n",
       "      <td>Male</td>\n",
       "    </tr>\n",
       "    <tr>\n",
       "      <td>2</td>\n",
       "      <td>Female</td>\n",
       "      <td>Male</td>\n",
       "    </tr>\n",
       "    <tr>\n",
       "      <td>3</td>\n",
       "      <td>Male</td>\n",
       "      <td>Female</td>\n",
       "    </tr>\n",
       "    <tr>\n",
       "      <td>4</td>\n",
       "      <td>Female</td>\n",
       "      <td>Female</td>\n",
       "    </tr>\n",
       "  </tbody>\n",
       "</table>\n",
       "</div>"
      ],
      "text/plain": [
       "  Weekdays Weekend\n",
       "0     Male  Female\n",
       "1   Female    Male\n",
       "2   Female    Male\n",
       "3     Male  Female\n",
       "4   Female  Female"
      ]
     },
     "execution_count": 15,
     "metadata": {},
     "output_type": "execute_result"
    }
   ],
   "source": [
    "####Pantaloons Male vs Female %\n",
    "import pandas as pd\n",
    "import numpy as np\n",
    "import scipy \n",
    "from scipy import stats\n",
    "import statsmodels.api as sm\n",
    "fant = pd.read_csv (\"~/desktop/Digi 360/Module 5/Datasets-2/Fantaloons.csv\")\n",
    "fant.head()"
   ]
  },
  {
   "cell_type": "code",
   "execution_count": 5,
   "metadata": {},
   "outputs": [
    {
     "name": "stdout",
     "output_type": "stream",
     "text": [
      "     sno       day     val\n",
      "0      0  Weekdays    Male\n",
      "1      0   Weekend  Female\n",
      "2      1  Weekdays  Female\n",
      "3      1   Weekend    Male\n",
      "4      2  Weekdays  Female\n",
      "..   ...       ...     ...\n",
      "795  397   Weekend  Female\n",
      "796  398  Weekdays  Female\n",
      "797  398   Weekend    Male\n",
      "798  399  Weekdays  Female\n",
      "799  399   Weekend  Female\n",
      "\n",
      "[800 rows x 3 columns]\n"
     ]
    }
   ],
   "source": [
    "##Stack the columns for 2 sample proportion test\n",
    "stack = fant.stack().rename_axis(('sno', 'day')).reset_index(name='val')\n",
    "print(stack)"
   ]
  },
  {
   "cell_type": "code",
   "execution_count": 6,
   "metadata": {},
   "outputs": [
    {
     "name": "stdout",
     "output_type": "stream",
     "text": [
      "day     Weekdays  Weekend\n",
      "val                      \n",
      "Female       287      233\n",
      "Male         113      167\n"
     ]
    }
   ],
   "source": [
    "###Getting p value by 2 proportion Test. Since the output is descrete and two samples.\n",
    "table = pd.crosstab(stack.val,stack.day)\n",
    "print(table)"
   ]
  },
  {
   "cell_type": "code",
   "execution_count": 7,
   "metadata": {},
   "outputs": [
    {
     "name": "stdout",
     "output_type": "stream",
     "text": [
      "Weekdays    400\n",
      "Weekend     400\n",
      "Name: day, dtype: int64 Female    520\n",
      "Male      280\n",
      "Name: val, dtype: int64\n"
     ]
    }
   ],
   "source": [
    "from statsmodels.stats.proportion import proportions_ztest\n",
    "count1 = stack.day.value_counts()\n",
    "count2 = stack.val.value_counts()\n",
    "print(count1, count2)"
   ]
  },
  {
   "cell_type": "code",
   "execution_count": 13,
   "metadata": {},
   "outputs": [
    {
     "name": "stdout",
     "output_type": "stream",
     "text": [
      "6.26114287794602e-05\n"
     ]
    }
   ],
   "source": [
    "count = np.array([113,167])\n",
    "observ = np.array([400,400])\n",
    "stats,pval1 = proportions_ztest(count,observ,alternative='two-sided')\n",
    "print(pval1)"
   ]
  },
  {
   "cell_type": "code",
   "execution_count": 16,
   "metadata": {},
   "outputs": [
    {
     "name": "stdout",
     "output_type": "stream",
     "text": [
      "0.9999686942856103\n"
     ]
    }
   ],
   "source": [
    "####Here p value is less than 0.05, so we reject null hypothesis and go with Ha. \n",
    "###That means proportions of male and female are not same. \n",
    "stats,pval1 = proportions_ztest(count,observ,alternative='larger')\n",
    "print(pval1)"
   ]
  }
 ],
 "metadata": {
  "kernelspec": {
   "display_name": "Python 3",
   "language": "python",
   "name": "python3"
  },
  "language_info": {
   "codemirror_mode": {
    "name": "ipython",
    "version": 3
   },
   "file_extension": ".py",
   "mimetype": "text/x-python",
   "name": "python",
   "nbconvert_exporter": "python",
   "pygments_lexer": "ipython3",
   "version": "3.7.4"
  }
 },
 "nbformat": 4,
 "nbformat_minor": 2
}
